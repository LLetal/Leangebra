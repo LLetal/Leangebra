{
 "cells": [
  {
   "cell_type": "markdown",
   "id": "e2c0dea6-5248-41b3-9ac8-676203837893",
   "metadata": {},
   "source": [
    "# Vektorové prostory \n",
    "\n",
    "# Vektorový prostor (Def. 11, Tvr. 10)\n",
    "Množinu $V$ nazveme vektorovým prostorem nad $\\mathbb{F}$, pakliže naplňuje následující skutečnosti.\n",
    "- 1. Je na ní definována operace *sčítání vektorů*, taková, že (V,+) tvoří komutativní grupu(viz definice grupy)\n",
    "- 2. Je na ní definovaná operace násobení tak, že pro $\\forall v,u \\in V \\forall r,s \\in \\mathbb{F}$:\n",
    "    - (1) $1v = v$ (násobení jednotkou)\n",
    "    - (2) $r(sv)=rs(v)$ (asociativita)\n",
    "    - (3) $(r+s)v = rv + sv$ (distributivita sčítání skalárů)\n",
    "    - (4) $r(u+v)= ru +rv$ (distributivita sčítání vektorů)\n",
    "- Uvnitř grupy rovněž definujeme pojmy neutrální prvek $o$(nulový vektor) a inverzní prvek, který značíme $-v$ (opačný vektor)\n",
    "# Aritmetický vektorový prostr a operace v něm (Kap. 1)\n",
    "Aritmetický vektorový prostor je základním vektorovým prostorem\n",
    "### Skalární součin(Str. 6)\n",
    "Dán předpisem pro $v,u \\in \\mathbb{F}^{3}$:\n",
    "$$\n",
    "v \\cdot u = v_1 u_1 + v_2 u_2 + v_3 u_3\n",
    "$$\n",
    "Pomocí skalárního součinu definujeme rovněž kolmost dvou vektorů - pakliže jsou si dva vektory kolmé, tak jejich skalární součin je roven 0. Množina všech vektorů kolmých na příslušný vektor se potom nazývá jeho **doplňkem**. \n",
    "### Triviální zobrazení v $\\mathbb{R^{2}}$ (Str. 6)\n",
    "Máme celkem 3 základní zobrazení v prostoru $\\mathbb{R}^2$:\n",
    "\n",
    "**Projekce do směru vektoru $x$**:\n",
    "$$\n",
    "P_x (y) = \\frac{x\\cdot y}{||x||^2} x\n",
    "$$\n",
    "**Ortogonální projekce na ortogonální doplněk**:\n",
    "$$\n",
    "P_{x^{\\perp}}(y) = y - P_x\n",
    "$$\n",
    "\n",
    "**Zrcadlení kolem osy dané vektorem $x$**:\n",
    "$$\n",
    "Z_{x^{\\perp}}(y) = y - 2 P_x\n",
    "$$\n",
    "### Norma vektoru\n",
    "Velikost vektoru, potažmo vzdálenosti dvou vektorů:\n",
    "$$\n",
    "|x|= \\sqrt{x_{1}^2 + x_{2}^2}\n",
    "$$"
   ]
  },
  {
   "cell_type": "markdown",
   "id": "d8671b2c-b3dc-490a-be56-8331068f7680",
   "metadata": {},
   "source": [
    "# Podprostor (Def. 12, Tvr. 11)\n",
    "Nechť $V$ je vektorový prostor nad $\\mathbb{F}$ a $W$ je neprázdná podmnožina $V$ taková, že $\\forall v,w \\in W, \\forall r,s \\in \\mathbb{F}$ platí $rv + sw \\in W$. Pak nazýváme $W$ podprostorem $V$ značíme $W \\leq V$ (Jednoduše uzavřeno na sčítání a násobení skalárem, aka lineární kombinace - Tvr 11.)\n",
    "# Afinní podprostor (Def 14)\n",
    "Nechť $V$ je vektorový prostor nad $\\mathbb{F}, W \\leq V, v \\in V$. Množinu $v+ W$, jejímž prvy jsou všechny součty vektoru $v$ s nějakým prvkem podprostoru $W$ nazýváme **afinním podprostorem** ve $V$, podprostor $W$ nazýváme **zaměřením** tohoto afinního podprostoru. (Jinými slovy prostě posunutýv vektorový prostor)\n"
   ]
  },
  {
   "cell_type": "markdown",
   "id": "e950fd12-b5f6-4aec-a55e-332d6abd75cc",
   "metadata": {},
   "source": [
    "# Lineární kombinace a lineární obal (Def 13)\n",
    "Nechť $V$ je vektorový prostor nad $\\mathbb{F}$ a $r_1 ... r_n \\in \\mathbb{F}, v_1 ... v_n \\in V$. Výraz $\\sum ^{n}_{i=1}r_i v_i$ se potom nazývá **lineární kombinací** vektorů $v_i$ se skaláry $r_i$. Pro neprázdnou množinu $M \\subset V$ značí $\\langle M \\rangle$ množinu všech lineárních kombinací prvků $M$, neboli její **lineární obal**. Pro $M = \\emptyset \\subset V$ definujeme jako její lineární obal nulový podprostor $0 \\leq V$.\n",
    "### Množina generátorů\n",
    "O množine $M \\subset W$, pro kterou platí, že $\\langle M \\rangle = W$ říkáme, že prostor $W$ generuje, případně, že $M$ je **množinou genetárorů** prostoru $W$. Rozdíl oproti bázi = v tom, že nemusí být LNZ.\n",
    "# Báze (Def 16, Tvr 14)\n",
    "Nechť $V$ je vektorový prostor nad $\\mathbb{F}$. Množina $M \\subset V$, která generuje $V$ a zároveň je **LNZ** se nazývá **bází vektorového prostoru** $V$\n",
    "### Definice od Krumpa\n",
    "Báze je **posloupnost** LNZ vektorů generujících vektorový prostor $V$\n",
    "### Důsledek definice\n",
    "Nechť $V$ je vektorovým prostorem nad $\\mathbb{F}$, pak množina $M \\subset V$ je bází $V$ právě tehdy, když lze každý vektor tohoto prostoru vyjádřit právě jedním způsobem jako LK vektorů z $M$ \n",
    "# Reprezentace vektoru vzhledem k bázi (Def 18)\n",
    "Nechť $V \\neq \\empty set$ je vektorový prostor nad $\\mathbb{F}$ konečné dimenze, pak posloupnost $B = (v_1, ..., v_n)$ nazveme bází $V$, pokud pro každý vektor $v \\in V$ existuje jednoznačně určený aritmetický vektor $[v]^{B}=(r_1,r_2....r_n)^T$ takový, že $v \\sum_{i=1}^n r_i v _i$. Bází prostoru 0 je prázdná poslouupnost. Vektor $[v]^B$ nazýváme **reprezentací** vektoru $v$ vzhledem k bázi $B$."
   ]
  },
  {
   "cell_type": "markdown",
   "id": "c2ebd236-8e05-4935-b9b4-df70194bc7bf",
   "metadata": {},
   "source": [
    "# Vektorový prostor konečné báze (Def 17)\n",
    "Vektorový prostor $V$ nad $\\mathbb{F}$ se nazývá **prostorem konečné dimenze**, pokud v něm existuje konečná báze.\n",
    "# Dimenze (Def 19)\n",
    "Nechť $V$ je vektorový prostor nad $\\mathbb{F}$. Je-li $V$ prostor konečné dimenze, pak definujeme nezáporné celé číslo $dim \\, V$ jako počet prvků libovolné báze $V$. Pokud není, píšeme, že $dim \\, V = \\infty$. V obou případech nazýváme tuto hodnotu **dimenzí** vektorového prostoru $V$.\n",
    "# Existence konečné báze (Tvr. 15)\n",
    "Nechť $V$ je vektorový prostor nad $F$. Pak jsou následující tvrzení ekvivalentní:\n",
    "- (1) $V$ je konečné dimenze\n",
    "- (2) Ve $V$ existuje konečná množina generátorů\n",
    "- (3) Z každé množiny generátorů $V$ lze vybrat konečnou bázi $V$\n",
    "\n",
    "*Důkaz:* I $1 =>2$ a $3=>1$ jsou zřejmé - plynou z definice dimenze. Dokažme tedy $2 =>3$. Máme-li ve $V$ konečnou množinu generátorů $M$ a nějakou - ne nutně konečnou množinu generátorů $N$, pak lze každý prvek $M$ vyjádřit jako lineární kombinaci prvků $N$. Lineární kombinace je suma obsahující pouze konečně mnoho sčítanců (definice), pročež bude množina $M$ též konečná. Existuje tedy konečná množina prvků $N'$, sestávající se ze všech prvků $N$, u kterých je ve vyjádření některého prvku $M$ nenulový koeficient. Libovolný prvek $V$ je lineární kombinací prvků množiny $M$ a lze jej tedy vyjádřit jako lineární kombinaci prvků $N'$. Podle druhé části tvrzení 13 je $N'$ buď lineárně nezávislá, anebo z ní lze odebrat prvky, aniž by se změnil lineární obal. Tedy odebráním konečného počtu prvků lze nalézt podmnožinu $N'' \\subset N'$, která je bází $V$"
   ]
  },
  {
   "cell_type": "markdown",
   "id": "7d861c7e-5e1c-40ef-9d09-4af25cd66393",
   "metadata": {},
   "source": [
    "# Věta o počtu prvků báze (Věta 1)(31) \n",
    "Všechny báze vektorového prostoru $V$ konečné dimenze mají stejný počet prvků\n",
    "\n",
    "*Důkaz:*\n",
    "Označmě $|X|$ počet prvků množiny nebo posloupnosti $X$. Aplikujeme-li lemma na dvě různé báze $B$ a $C$ ve $V$, $|B| = p$, $|C| = q$, pak $p\\leq q$, protože $B$ je LNZ a $C$ generuje $V$. Zároveň i $q \\leq p$, protože $C$ je lineárně nezávislá a $B$ generuje $V$. Tedy $q=p$\n",
    "# Steinitzovo lemma (Lemma 1)(31)\n",
    "Nechť $V$ je vektorovým prostorem nad $\\mathbb{F}$, $M$ jeho n-prvková množina generátorů a $N = (v_1,...,v_k)$ lineárně nezávislá množina ve $V$. Pak $k \\leq n$ a prvky $M$ lze uspořádat do posloupnosti $(u_1,u_2,...,u_n)$ tak, že množina $(v_1,...v_k,u_{k+1},...,u_n)$ generuje $V$.\n",
    "\n",
    "(tzn. můžeme přidávat na bázi)\n",
    "\n",
    "*Důkaz:*\n",
    "Postup indukcí podle $k$. Když se $k=1$, pak $N = (v_1)$, kde $v_1 \\neq 0$. Kdyby $n=0$ byla prázdná množina, tedy $\\langle M \\rangle = 0$. Protože $V$ obsahuje nenulový vektor $v_1$, není $M = \\emptyset$ množinou generátorů $V$. Vusí tedy být $n \\geq 1 =k$, čímž je dokázaná první část lemmatu.\n",
    "## TODO zbytek, je to dlouhý af"
   ]
  },
  {
   "cell_type": "markdown",
   "id": "d85a91a2-9014-467c-b220-c7f85b83a9f7",
   "metadata": {},
   "source": [
    "# Elementární úpravy na (Tvr. 16)\n",
    "Nechť $C$ je posloupnost vektorů ve vektorovém prostoru $V$ nad $\\mathbb{F}$ a posloupnost $D$ z ní vznikne elementární úpravou. Potom platí:\n",
    "\n",
    "- (1) Lineární obaly $C$ a $D$ jsou stejné\n",
    "- (2) $C$ je lineárně nezávislá, právě když $D$ je lineárně nezávislá\n",
    "- (3) $C$ ke bází $V$, právě když $D$ je bází $V$ \n",
    "\n",
    "*Důkaz:*\n",
    "Protože EÚ jsou vratné pomocí E), stačí dokázat jen to, že každý prvek $V$ lze vyjádřit jako LK prvků $C$, lze vyjádřit i jako LK prvků $D$. Uvažujme elementární úpravu typu 2 (Co to jako znamená???) a $v = \\sum_{i=1}^n r_i v_i \\in \\langle C \\rangle$. Pro pohodlnější zápis předpokládejme $k < j$. Pak lze sumu přepsat jako:\n",
    "$$\n",
    "v = \\sum_{i=1}^{k-1} v_i r_i + r_k(v_k +sv_j) + \\sum_{i = k+1}^{j-1} r_i v_i + (r_j - sr_k)v_j + \\sum_{i=j+1}^{n} r_i v_i,\n",
    "$$\n",
    "Slušnými slovy napsáno $v$ je LK vektorů z $D$. Pro ostatní typy EÚ je postup analogický. Dále ukážeme, že je-li $D$ lineárně nezávislá, pak musí být i $C$. Uvažme nějaké vyjádření nulového vektoru ve tvaru lineární kombinace prvků $C: o = \\sum_{i=´1}^{n} r_i v_i$. Pravou stranu přepišme do stejného tvaru jako první rovnici. Z LNZ $D$ plyne, že všechny koeficienty v této LK jsou nulové. To ale znamená $r_i =0$, poku $i$, $k$ ani $j$, dále $r_k=0$, a díky tomu $r_j = r_j -sr_k =0$. Tedy LK $\\sum_{i=1}^n r_i v_i$ musí být triviální, a tedy $C$ je lineárně nezávislá. "
   ]
  },
  {
   "cell_type": "markdown",
   "id": "c1024d8a-30b3-4f32-ad7b-82dc2fe6619f",
   "metadata": {},
   "source": [
    "# Direktní součet (Def 35)\n",
    "Nechť $V$ je vektorový prostor nad $\\mathbb{F}$ a $W_1$ a $W_2$ jeho dva podprostory. Pak jejich součtem $W_1 + W_2$ je množina všech vektorů, které lze zapsat jako součet $w_1 + w_2$, kde $w_i \\in W_i$, pokud navíc $W_1 \\cap W_2 = \\emptyset$, nazýváme $W_1 + W_2$ **direktním součtem podprostorů** a značíme jej jako $W_1 \\oplus W_2$. Současně pokud $W_1 \\oplus W_2 = V$, pak $W_2$ je doplňkem podprostoru $W_1$ ve $V$.\n",
    "# Obyčejný součet (Def 36)\n",
    "Nechť $G$ je množina podprostorů ve vektorovém prostoru $V$. Pak definujeme jejich **součet** jako:\n",
    "$$\n",
    "\\sum_{W \\subset G} = \\langle \\cup_{W \\in G} W \\rangle\n",
    "$$\n",
    "I zde je zřejmé, že sjednocené množin generátorů jednotlivých podprostorů generuje jejich součet. Je třeba si uvědimt, že ačkoli množina $G$ může býz nekonečná, v $\\sum_{W \\in G}$W se vyskytují jen součty konečně mnoha vektorů."
   ]
  }
 ],
 "metadata": {
  "kernelspec": {
   "display_name": "Python 3 (ipykernel)",
   "language": "python",
   "name": "python3"
  },
  "language_info": {
   "codemirror_mode": {
    "name": "ipython",
    "version": 3
   },
   "file_extension": ".py",
   "mimetype": "text/x-python",
   "name": "python",
   "nbconvert_exporter": "python",
   "pygments_lexer": "ipython3",
   "version": "3.11.5"
  }
 },
 "nbformat": 4,
 "nbformat_minor": 5
}
