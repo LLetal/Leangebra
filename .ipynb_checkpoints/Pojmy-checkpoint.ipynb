{
 "cells": [
  {
   "cell_type": "markdown",
   "id": "00627c4d-b208-4859-bb1a-949fd605ab5e",
   "metadata": {},
   "source": [
    "# Vektorový prostor (Def. 11, Tvr. 10)\n",
    "Množinu $V$ nazveme vektorovým prostorem nad $\\mathbb{F}$, pakliže naplňuje následující skutečnosti.\n",
    "- 1. Je na ní definována operace *sčítání vektorů*, taková, že (V,+) tvoří komutativní grupu(viz definice grupy)\n",
    "- 2. Je na ní definovaná operace násobení tak, že pro $\\forall v,u \\in V \\forall r,s \\in \\mathbb{F}$:\n",
    "    - (1) $1v = v$ (násobení jednotkou)\n",
    "    - (2) $r(sv)=rs(v)$ (asociativita)\n",
    "    - (3) $(r+s)v = rv + sv$ (distributivita sčítání skalárů)\n",
    "    - (4) $r(u+v)= ru +rv$ (distributivita sčítání vektorů)\n",
    "- Uvnitř grupy rovněž definujeme pojmy neutrální prvek $o$(nulový vektor) a inverzní prvek, který značíme $-v$ (opačný vektor)\n",
    "# Aritmetický vektorový prostr a operace v něm (Kap. 1)\n",
    "Aritmetický vektorový prostor je základním vektorovým prostorem\n",
    "### Skalární součin(Str. 6)\n",
    "Dán předpisem pro $v,u \\in \\mathbb{F}^{3}$:\n",
    "$$\n",
    "v \\cdot u = v_1 u_1 + v_2 u_2 + v_3 u_3\n",
    "$$\n",
    "Pomocí skalárního součinu definujeme rovněž kolmost dvou vektorů - pakliže jsou si dva vektory kolmé, tak jejich skalární součin je roven 0. Množina všech vektorů kolmých na příslušný vektor se potom nazývá jeho **doplňkem**. \n",
    "### Triviální zobrazení v $\\mathbb{R^{2}}$ (Str. 6)\n",
    "Máme celkem 3 základní zobrazení v prostoru $\\mathbb{R}^2$:\n",
    "\n",
    "**Projekce do směru vektoru $x$**:\n",
    "$$\n",
    "P_x (y) = \\frac{x\\cdot y}{||x||^2} x\n",
    "$$\n",
    "**Ortogonální projekce na ortogonální doplněk**:\n",
    "$$\n",
    "P_{x^{\\perp}}(y) = y - P_x\n",
    "$$\n",
    "\n",
    "**Zrcadlení kolem osy dané vektorem $x$**:\n",
    "$$\n",
    "Z_{x^{\\perp}}(y) = y - 2 P_x\n",
    "$$\n",
    "### Norma vektoru\n",
    "Velikost vektoru, potažmo vzdálenosti dvou vektorů:\n",
    "$$\n",
    "|x|= \\sqrt{x_{1}^2 + x_{2}^2}\n",
    "$$"
   ]
  },
  {
   "cell_type": "markdown",
   "id": "f89d794f-1404-4624-ad7e-9cbfa909100c",
   "metadata": {},
   "source": [
    "# Podprostor (Def. 12, Tvr. 11)\n",
    "Nechť $V$ je vektorový prostor nad $\\mathbb{F}$ a $W$ je neprázdná podmnožina $V$ taková, že $\\forall v,w \\in W, \\forall r,s \\in \\mathbb{F}$ platí $rv + sw \\in W$. Pak nazýváme $W$ podprostorem $V$ značíme $W \\leq V$ (Jednoduše uzavřeno na sčítání a násobení skalárem, aka lineární kombinace - Tvr 11.)\n",
    "# Afinní podprostor (Def 14)\n",
    "Nechť $V$ je vektorový prostor nad $\\mathbb{F}, W \\leq V, v \\in V$. Množinu $v+ W$, jejímž prvy jsou všechny součty vektoru $v$ s nějakým prvkem podprostoru $W$ nazýváme **afinním podprostorem** ve $V$, podprostor $W$ nazýváme **zaměřením** tohoto afinního podprostoru. (Jinými slovy prostě posunutýv vektorový prostor)\n"
   ]
  },
  {
   "cell_type": "markdown",
   "id": "b27f312a-6ddb-4cac-b1c0-65e99cdebfee",
   "metadata": {},
   "source": [
    "# Lineární kombinace a lineární obal (Def 13)\n",
    "Nechť $V$ je vektorový prostor nad $\\mathbb{F}$ a $r_1 ... r_n \\in \\mathbb{F}, v_1 ... v_n \\in V$. Výraz $\\sum ^{n}_{i=1}r_i v_i$ se potom nazývá **lineární kombinací** vektorů $v_i$ se skaláry $r_i$. Pro neprázdnou množinu $M \\subset V$ značí $\\langle M \\rangle$ množinu všech lineárních kombinací prvků $M$, neboli její **lineární obal**. Pro $M = \\emptyset \\subset V$ definujeme jako její lineární obal nulový podprostor $0 \\leq V$.\n",
    "### Množina generátorů\n",
    "O množine $M \\subset W$, pro kterou platí, že $\\langle M \\rangle = W$ říkáme, že prostor $W$ generuje, případně, že $M$ je **množinou genetárorů** prostoru $W$. Rozdíl oproti bázi = v tom, že nemusí být LNZ."
   ]
  },
  {
   "cell_type": "markdown",
   "id": "58491f55-80dd-41f9-a404-83be94b0e565",
   "metadata": {},
   "source": [
    "# Báze (Def 16, Tvr 14)\n",
    "Nechť $V$ je vektorový prostor nad $\\mathbb{F}$. Množina $M \\subset V$, která generuje $V$ a zároveň je **LNZ** se nazývá **bází vektorového prostoru** $V$\n",
    "### Definice od Krumpa\n",
    "Báze je **posloupnost** LNZ vektorů generujících vektorový prostor $V$\n",
    "### Důsledek definice\n",
    "Nechť $V$ je vektorovým prostorem nad $\\mathbb{F}$, pak množina $M \\subset V$ je bází $V$ právě tehdy, když lze každý vektor tohoto prostoru vyjádřit právě jedním způsobem jako LK vektorů z $M$ "
   ]
  },
  {
   "cell_type": "markdown",
   "id": "33172a1d-62d2-4f5f-b10a-99628a2d302f",
   "metadata": {},
   "source": [
    "# Reprezentace vektoru vzhledem k bázi (Def 18)\n",
    "Nechť $V \\neq \\empty set$ je vektorový prostor nad $\\mathbb{F}$ konečné dimenze, pak posloupnost $B = (v_1, ..., v_n)$ nazveme bází $V$, pokud pro každý vektor $v \\in V$ existuje jednoznačně určený aritmetický vektor $[v]^{B}=(r_1,r_2....r_n)^T$ takový, že $v \\sum_{i=1}^n r_i v _i$. Bází prostoru 0 je prázdná poslouupnost. Vektor $[v]^B$ nazýváme **reprezentací** vektoru $v$ vzhledem k bázi $B$."
   ]
  },
  {
   "cell_type": "markdown",
   "id": "ef288e5b-b043-4081-9a0f-268d1edfc035",
   "metadata": {},
   "source": [
    "# Vektorový prostor konečné báze (Def 17)\n",
    "Vektorový prostor $V$ nad $\\mathbb{F}$ se nazývá **prostorem konečné dimenze**, pokud v něm existuje konečná báze.\n",
    "# Dimenze (Def 19)\n",
    "Nechť $V$ je vektorový prostor nad $\\mathbb{F}$. Je-li $V$ prostor konečné dimenze, pak definujeme nezáporné celé číslo $dim \\, V$ jako počet prvků libovolné báze $V$. Pokud není, píšeme, že $dim \\, V = \\infty$. V obou případech nazýváme tuto hodnotu **dimenzí** vektorového prostoru $V$."
   ]
  },
  {
   "cell_type": "markdown",
   "id": "a0b7a6d0-389a-41a1-938a-f40e431ef5f2",
   "metadata": {},
   "source": [
    "# Existence konečné báze (Tvr. 15)\n",
    "Nechť $V$ je vektorový prostor nad $F$. Pak jsou následující tvrzení ekvivalentní:\n",
    "- (1) $V$ je konečné dimenze\n",
    "- (2) Ve $V$ existuje konečná množina generátorů\n",
    "- (3) Z každé množiny generátorů $V$ lze vybrat konečnou bázi $V$\n",
    "\n",
    "*Důkaz:* I $1 =>2$ a $3=>1$ jsou zřejmé - plynou z definice dimenze. Dokažme tedy $2 =>3$. Máme-li ve $V$ konečnou množinu generátorů $M$ a nějakou - ne nutně konečnou množinu generátorů $N$, pak lze každý prvek $M$ vyjádřit jako lineární kombinaci prvků $N$. Lineární kombinace je suma obsahující pouze konečně mnoho sčítanců (definice), pročež bude množina $M$ též konečná. Existuje tedy konečná množina prvků $N'$, sestávající se ze všech prvků $N$, u kterých je ve vyjádření některého prvku $M$ nenulový koeficient. Libovolný prvek $V$ je lineární kombinací prvků množiny $M$ a lze jej tedy vyjádřit jako lineární kombinaci prvků $N'$. Podle druhé části tvrzení 13 je $N'$ buď lineárně nezávislá, anebo z ní lze odebrat prvky, aniž by se změnil lineární obal. Tedy odebráním konečného počtu prvků lze nalézt podmnožinu $N'' \\subset N'$, která je bází $V$"
   ]
  },
  {
   "cell_type": "markdown",
   "id": "6fec0e96-fe5f-4c42-9582-5b9b5681f691",
   "metadata": {},
   "source": [
    "# Věta o počtu prvků báze (Věta 1)(31) \n",
    "Všechny báze vektorového prostoru $V$ konečné dimenze mají stejný počet prvků\n",
    "\n",
    "*Důkaz:*\n",
    "Označmě $|X|$ počet prvků množiny nebo posloupnosti $X$. Aplikujeme-li lemma na dvě různé báze $B$ a $C$ ve $V$, $|B| = p$, $|C| = q$, pak $p\\leq q$, protože $B$ je LNZ a $C$ generuje $V$. Zároveň i $q \\leq p$, protože $C$ je lineárně nezávislá a $B$ generuje $V$. Tedy $q=p$\n",
    "# Steinitzovo lemma (Lemma 1)(31)\n",
    "Nechť $V$ je vektorovým prostorem nad $\\mathbb{F}$, $M$ jeho n-prvková množina generátorů a $N = (v_1,...,v_k)$ lineárně nezávislá množina ve $V$. Pak $k \\leq n$ a prvky $M$ lze uspořádat do posloupnosti $(u_1,u_2,...,u_n)$ tak, že množina $(v_1,...v_k,u_{k+1},...,u_n)$ generuje $V$.\n",
    "\n",
    "(tzn. můžeme přidávat na bázi)\n",
    "\n",
    "*Důkaz:*\n",
    "Postup indukcí podle $k$. Když se $k=1$, pak $N = (v_1)$, kde $v_1 \\neq 0$. Kdyby $n=0$ byla prázdná množina, tedy $\\langle M \\rangle = 0$. Protože $V$ obsahuje nenulový vektor $v_1$, není $M = \\emptyset$ množinou generátorů $V$. Vusí tedy být $n \\geq 1 =k$, čímž je dokázaná první část lemmatu.\n",
    "## TODO zbytek, je to dlouhý af"
   ]
  },
  {
   "cell_type": "markdown",
   "id": "1626bfdb-e730-4455-a114-d57b91890c5e",
   "metadata": {
    "tags": []
   },
   "source": [
    "# Elementární úpravy na (Tvr. 16)\n",
    "Nechť $C$ je posloupnost vektorů ve vektorovém prostoru $V$ nad $\\mathbb{F}$ a posloupnost $D$ z ní vznikne elementární úpravou. Potom platí:\n",
    "\n",
    "- (1) Lineární obaly $C$ a $D$ jsou stejné\n",
    "- (2) $C$ je lineárně nezávislá, právě když $D$ je lineárně nezávislá\n",
    "- (3) $C$ ke bází $V$, právě když $D$ je bází $V$ \n",
    "\n",
    "*Důkaz:*\n",
    "Protože EÚ jsou vratné pomocí E), stačí dokázat jen to, že každý prvek $V$ lze vyjádřit jako LK prvků $C$, lze vyjádřit i jako LK prvků $D$. Uvažujme elementární úpravu typu 2 (Co to jako znamená???) a $v = \\sum_{i=1}^n r_i v_i \\in \\langle C \\rangle$. Pro pohodlnější zápis předpokládejme $k < j$. Pak lze sumu přepsat jako:\n",
    "$$\n",
    "v = \\sum_{i=1}^{k-1} v_i r_i + r_k(v_k +sv_j) + \\sum_{i = k+1}^{j-1} r_i v_i + (r_j - sr_k)v_j + \\sum_{i=j+1}^{n} r_i v_i,\n",
    "$$\n",
    "Slušnými slovy napsáno $v$ je LK vektorů z $D$. Pro ostatní typy EÚ je postup analogický. Dále ukážeme, že je-li $D$ lineárně nezávislá, pak musí být i $C$. Uvažme nějaké vyjádření nulového vektoru ve tvaru lineární kombinace prvků $C: o = \\sum_{i=´1}^{n} r_i v_i$. Pravou stranu přepišme do stejného tvaru jako první rovnici. Z LNZ $D$ plyne, že všechny koeficienty v této LK jsou nulové. To ale znamená $r_i =0$, poku $i$, $k$ ani $j$, dále $r_k=0$, a díky tomu $r_j = r_j -sr_k =0$. Tedy LK $\\sum_{i=1}^n r_i v_i$ musí být triviální, a tedy $C$ je lineárně nezávislá. "
   ]
  },
  {
   "cell_type": "markdown",
   "id": "a348554d-d177-4c3c-b483-6a0d863693a3",
   "metadata": {},
   "source": [
    "# Direktní součet (Def 35)\n",
    "Nechť $V$ je vektorový prostor nad $\\mathbb{F}$ a $W_1$ a $W_2$ jeho dva podprostory. Pak jejich součtem $W_1 + W_2$ je množina všech vektorů, které lze zapsat jako součet $w_1 + w_2$, kde $w_i \\in W_i$, pokud navíc $W_1 \\cap W_2 = \\emptyset$, nazýváme $W_1 + W_2$ **direktním součtem podprostorů** a značíme jej jako $W_1 \\oplus W_2$. Současně pokud $W_1 \\oplus W_2 = V$, pak $W_2$ je doplňkem podprostoru $W_1$ ve $V$.\n",
    "# Obyčejný součet (Def 36)\n",
    "Nechť $G$ je množina podprostorů ve vektorovém prostoru $V$. Pak definujeme jejich **součet** jako:\n",
    "$$\n",
    "\\sum_{W \\subset G} = \\langle \\cup_{W \\in G} W \\rangle\n",
    "$$\n",
    "I zde je zřejmé, že sjednocené množin generátorů jednotlivých podprostorů generuje jejich součet. Je třeba si uvědimt, že ačkoli množina $G$ může býz nekonečná, v $\\sum_{W \\in G}$W se vyskytují jen součty konečně mnoha vektorů."
   ]
  },
  {
   "cell_type": "markdown",
   "id": "11abd701-9a90-4a61-b20c-65b0e4a07f8c",
   "metadata": {},
   "source": [
    "## TODO VĚTY 20 A 19"
   ]
  },
  {
   "cell_type": "markdown",
   "id": "aa948fa0-609e-41bb-b073-f7d7489b68eb",
   "metadata": {},
   "source": [
    "# Charakteristický polynom (Def 33)\n",
    "**Charakteristickým polynomem matice** $A \\in \\mathbb{F}^{n x n}$ nazýváme polynom $p_A (\\lambda):= det(A-\\lambda E)$. Charakteristický polynom endorfismu $f$ je $det(f- \\lambda Id)$, čili charakteristický polnyom jeho libovolné matice $[f]_C ^C$. (čili zobrazení z jednoho prostoru do toho samého.). Stupeň char. polynomu je vždy $n$."
   ]
  },
  {
   "cell_type": "markdown",
   "id": "f13918dd-3280-48ac-aab5-8a6bb2a34cf4",
   "metadata": {},
   "source": [
    "# Vlastní čísla (Def 32)\n",
    "Nechť $V$ je vektorový prostor nad $\\mathbb{F}$. Číslo $\\lambda \\in \\mathbb{F}$ je **vlastním číslem** endomorfismu $f \\in End(V)$, pakliže pro nějaký nenulový vektor $v \\in V$ platí, že $f(v) = \\lambda v$. Každý vektor, který toto splňuje se nazývá **vlastním vektorem** příslušným **vlastnímu** číslu. Současně platí, že onen vektor náleží **vlastnímu podprostoru**.\n",
    "\n",
    "# Vlastní podprostor (Pod Def 32)\n",
    "Vlastní vektory jsou prvky $V_{\\lambda}:= Ker(f-\\lambda Id)$, neboli vlastního podprostoru endomorfismu $f$ příslušného vlastnímu číslu $\\lambda$."
   ]
  },
  {
   "cell_type": "markdown",
   "id": "50b699f2-af9d-4fc2-9671-8529c2969e65",
   "metadata": {},
   "source": [
    "# Spektrum matice (Def. 34)\n",
    "Množina všech vlastních čísel matice $A$ se nazývá její **spektrum** a značí se $\\sigma (A)$. Pro $\\lambda_i \\in \\sigma(A)$ je jeho **algebraická násobnost** definována jako násobnost $\\lambda_i$ coby kořenu $p_A (\\lambda)$ a jeho **geometrická násobnost** jako dimenze prostoru $Ker(A-\\lambda_i E)$. Analogicky jsou definovány tytéž pojmy pro endomorfismus."
   ]
  },
  {
   "cell_type": "markdown",
   "id": "6afc0c6c-0c52-45f4-9a46-e34bdabb9227",
   "metadata": {},
   "source": [
    "# Koeficienty charakteristického polynomu pro n=2\n",
    "Koeficienty pro matici $A \\in \\mathbb{F}^{2 x 2}$jsou následující:\n",
    "$$\n",
    "\\lambda^2 - Trace(A) + det(A) = 0\n",
    "$$\n"
   ]
  },
  {
   "cell_type": "markdown",
   "id": "d8778b50-1918-4dd9-990c-fe61e4779438",
   "metadata": {},
   "source": [
    "# Příklad nediagonizovatelné matice (Lalalala)"
   ]
  },
  {
   "cell_type": "markdown",
   "id": "5aac7744-0fe7-44ab-93e0-dce2fbf693dd",
   "metadata": {},
   "source": [
    "# Báze u vl. vektorů a podmínky existence (sehnat - nemám)\n"
   ]
  },
  {
   "cell_type": "code",
   "execution_count": null,
   "id": "8b57ba1b-5afe-46d4-bcbe-6c21187c95a0",
   "metadata": {},
   "outputs": [],
   "source": [
    "# Diagonalizace matice a endomorfismu (Nemám sešit)\n"
   ]
  },
  {
   "cell_type": "code",
   "execution_count": null,
   "id": "ccaba11e-3787-4e8d-a636-8396fd8b8624",
   "metadata": {},
   "outputs": [],
   "source": [
    "# Vztah diagonalizovatelnosti matice a algebraické násobnosti (Nemám sešit)"
   ]
  },
  {
   "cell_type": "markdown",
   "id": "cfc2fdaf-c211-48da-9ac0-17d6e5b25790",
   "metadata": {},
   "source": [
    "# Blokový zápis matice (Tvr 37)\n",
    "Nechť $n = n_1 + n_2$, $m= m_1 +m_2, p = p_1 + p_2, X \\in \\mathbb{F}^{m \\times n}$, $Y \\in \\mathbb{F}^{n \\times p}$ s bloky $A_{ij}\\in \\mathbb{F}^{m_i \\times \\p_j}$. Pak součin $C = AB$ má blokový zápis:\n",
    "$$\n",
    "\\begin{gather}\n",
    " \\begin{bmatrix} C_{11} & C_{12} \\\\ \n",
    " C_{21} & C_{22} \n",
    " \\end{bmatrix}\n",
    " =\n",
    "  \\begin{bmatrix}\n",
    "   X_{22} Y_{11} + X_{12} Y_{21} &\n",
    "   X_{22} Y_{12} + X_{12} Y_{22} \\\\\n",
    "   X_{11} Y_{21} + X_{21} Y_{11} &\n",
    "   X_{11} Y_{22} + X_{21} Y_{12} \n",
    "   \\end{bmatrix}\n",
    "\\end{gather}\n",
    "$$\n"
   ]
  },
  {
   "cell_type": "markdown",
   "id": "5b2ecfa6-9350-4eb0-b084-408c57b7511d",
   "metadata": {},
   "source": [
    "# Horní trojúhelníková bloková matice (70) (Nemám sešit :( ) "
   ]
  },
  {
   "cell_type": "markdown",
   "id": "960c1311-d04e-40f5-b954-13b355ddb46e",
   "metadata": {},
   "source": [
    "# Blokovo-diagonální zápis matice (Tvr 38)\n",
    "Nechť $A = diag(A_{11},A_{22},...A_{kk})$. Pak platí:\n",
    "\n",
    "- (1) $\\forall p \\in \\mathbb{N}: A^{p} = diag(A^{p}_{11},...,A^{p}_{kk})$ a jsou-li všechny $A_ii$ regulární, pak i $A^{-p} = diag(A_{11}^{-p},...,A_{kk}^{-p})$\n",
    "- (2) $rank(A) = rank(A_{11})+rank(A_{22}) +...+ rank(A_{kk})$\n",
    "- (3) $Tr(AA) = Tr(A_{11}) + Tr(A_{22}) +...+ Tr(A_{kk})$\n",
    "- (4) $det(A) = det(A_{11}) det(A_{22})det(A_{kk})$\n",
    "- (5) $\\sigma(A) = \\sigma(A_{11}) \\cup \\sigma(A_{22})\\cup ... \\cup \\sigma(A_{kk})$\n",
    "\n",
    "**Poslední dva body platí rovněž pro dolní, potažmo horní, trojúhelníkové matice.**"
   ]
  },
  {
   "cell_type": "markdown",
   "id": "dccb37a3-c5c3-4f6c-81ad-90c131feefd1",
   "metadata": {},
   "source": [
    "# Matice soustavy (Def. 1)\n",
    "Nechť $m,n \\in \\mathbb{N}$ a $a_1,...,a_n$ jsou vektory z $\\mathbb{R}^n$, $x \\in \\mathbb{R}^n$. Pak definujeme matici $A = (a_1|...|a_n)$ a její součin s vektorem $x$ jako:\n",
    "$$\n",
    "Ax = x_1 a_1 + ... + x_n a_n \\in \\mathbb{R}^m\n",
    "$$"
   ]
  },
  {
   "cell_type": "markdown",
   "id": "7b5cb0d7-08ce-448b-9c8c-b90b3f173ff5",
   "metadata": {},
   "source": [
    "# Podmínka řešitelnosti soustavy (Tvr 6)\n",
    "Je-li rozšířená matice soustavy $(A|b), A \\in \\mathbb{R}^{n \\times m}$ V odstupňovaném tvaru, pak má soustava rovnic řešení, právě když sloupec pravých stran není pivotní.\n",
    "\n",
    "*Důkaz:*\n",
    "Předpokládejme nejprve, že matice je v redukovaném odstupňovaném tvaru, že rozšířená matce má $r$ nenulových řádků a že pivoty mají sloupcové indexy $j_1 <j_2 <...<j_r$. Pokud je sloupec pravých stran pivotní, pak je součástí soutsavy také rovnice, která má na levé straně 0 a na pravé nenulový pivot $b_r$. Taková rovnice nemá řešení a tedy jej nemůže mít celá soustava. To dá přece rozum :))). Pakliže sloupec pravých stran není pivotní, tak má rovnice řešení a je jím nějaký vektor $x \\in \\mathbb{R}^{n}$.\n"
   ]
  },
  {
   "attachments": {
    "777f8b3e-40ab-436e-b42e-4cd4420c35d1.png": {
     "image/png": "[encoded data removed]"
    }
   },
   "cell_type": "markdown",
   "id": "c657d8aa-80a1-4c2a-9cfc-7551cc0915bd",
   "metadata": {},
   "source": [
    "# Zábavné elementární matice (bez čísla)\n",
    "\n",
    "### Čtvercová matice\n",
    "Taková matice, která má stejný počet řádků jako sloupců\n",
    "### Jednotková matice\n",
    "Taková matice, která má všechny prvky vyjma prvků na diagonále, které jsou rovny 1, nulové\n",
    "$$\n",
    "A = EA = AE\n",
    "$$\n",
    "### Nulová matice\n",
    "Všechny její prvky jsou rovny 0\n",
    "### Diagonální matice\n",
    "Diagonální matice je taková, která má všechny prvky, vyjma prvků na diagonále, které mohou nabývat jakýchkoliv hodnot, nulové\n",
    "### Horní/dolní trojúhelníková matice\n",
    "Taková matice, jejíž všechny prvky nad/pod diagonálou jsou nulové, ostatní mohou nabývat libovolných hodnot.\n",
    "### Symetrická matice\n",
    "Taková matice, pro kterou platí, že:\n",
    "$$\n",
    "A = A^{T}\n",
    "$$\n",
    "**Antisymetrická** matice je potom:\n",
    "$$\n",
    "A = - A^T\n",
    "$$\n",
    "### Elementární matice \n",
    "Ty matice, které realizují ESÚ, potažmo EŘÚ.\n",
    "![image.png](attachment:777f8b3e-40ab-436e-b42e-4cd4420c35d1.png)\n",
    "### Transponovaná matice\n",
    "Matice, ve které prostě vyměníme řádky za sloupce:\n",
    "$$\n",
    "a_{ji} ^{T} = a_{ij}\n",
    "$$"
   ]
  },
  {
   "cell_type": "markdown",
   "id": "b15e2219-518a-4449-950b-f12af94ce4f4",
   "metadata": {},
   "source": [
    "# Další typy matic, tentokrát i s čísly\n",
    "\n",
    "## Inverzní matice (Def 4)\n",
    "Mějme $A \\in \\mathbb{R}^{n \\times n}$. Matice $A^{-1}$, která splňuje $AA^{-1} = A^{-1}A = E$, se nazývá maticí **inverzní** k $A$. Pokud matice $A$ inverzní matici má, tak se nazývá **regulární**, jinak **singulární**. Tyhle pojmy se potom budou hodně opakovat.\n",
    "## Matice v redukovaném odstupňovaném tvaru (Def 6)\n",
    "Nazvěme první nenulový prvek každého řádku matice jako **pivot**. Matice $A$ je v **odstupňovaném tvaru** právě tehdy, kldyž je buď nulová, anebo v ní všechny nulové řádky následují až po všech nenulový a zároveň každý pivot nenulového řádku kromě prvního má vyšší sloupcový index, než ten předchozí. Sloupce s pivoty v matici v ostupňovaném tvaru nazýváme **pivotními sloupce**. Pokud matici chceme uvést do **redukovaného odstupňovaného tvaru**, tak tak učiníme tím, že všechny pivoty upravíme na hodnotu 1 a všechny ostatní prvky vynulujeme. "
   ]
  },
  {
   "attachments": {
    "ffad99bb-5b1b-4c30-8d74-d4fe2d54181f.png": {
     "image/png": "[encoded data removed]"
    }
   },
   "cell_type": "markdown",
   "id": "378513ab-06bd-44b0-ab57-c609c1221947",
   "metadata": {},
   "source": [
    "# Operace, které můžeme provádět na maticích\n",
    "**Tam kde není číslo jsou věci z cvik potažmo zmínek z netu**\n",
    "## EŘÚ (Def 5)\n",
    "**Elementární řádkovou úpravou** (EŘÚ) rozumíme buď:\n",
    "- (1) Prohození dvou řádků\n",
    "- (2) Přičtení libovolného násobku nějakého řádku do jiného řádku\n",
    "- (3) Vynásobení nějakého řádku nenulovým číslem\n",
    "Veškeré **EŘÚ** jsou realizované skrz násobení příslušnými maticemi **ZLEVA**. Zachovává to **řádkový** prostor.\n",
    "![image.png](attachment:ffad99bb-5b1b-4c30-8d74-d4fe2d54181f.png)\n",
    "## ESÚ (Def není)\n",
    "Násobení maticemi **ZPRAVA**. Zachovává **sloupcový** prostor\n",
    "## Sčítání matic (Def 3)\n",
    "Mějme matice $A,B \\in \\mathbb{m \\times n}$. Pak **součet matic** $A + B$ definujeme jakosoučet jejich prvků v na příslušných místech. **Součin skalárem** potom jako násobení všech prvků matice skalárem najednou. \n",
    "## Součin matic (Def 2)\n",
    "Nechť $A$ je matice $m \\times n$ a $B$ je matice $p \\times m$. Pak definujme:\n",
    "$$\n",
    "BA = (B a_1|...| B a_n)\n",
    "$$\n",
    "Z definice automaticky plyne, že $F_B o F_A = F_{BA}$. $BA$ je potom matice $p\\times n$, tedy má stejně sloupců jako $A$ a stejně řádků jako $B$\n",
    "## Mocnění matice \n",
    "Mocníme-li matici na $n$tou, tak jí n-krát násobíme samo sebou zleva.\n",
    "\n",
    "## Komutování matice\n",
    "Zase more součin komutativní není (Z definice), součet ano.\n",
    "\n",
    "## Stopa matice (59)\n",
    "Pro matici $A \\in \\mathbb{F}^{n \\times n}$, definujeme jako $Tr A = \\sum_{i=1}^n a_ii$, tedy prostě součet prvků na diagonále. Pro $A\\in \\mathbb{n \\times p}$, $B \\in \\mathbb{F} ^{p \\times q}, C \\in \\mathbb{F}^{q\\times n}$ platí:\n",
    "$$\n",
    "Tr ABC = \\sum_{i=1}^{n} \\sum_{i=1}^{p} \\sum_{i=1}^{q} a_{ij}b_{jk}c_{ki} = \\sum_{i=1}^{n} \\sum_{i=1}^{p} \\sum_{i=1}^{q} b_{jk}c_{ki}a_{ij} = Tr BCA\n",
    "$$\n",
    "tzv. **CYKLIČNOST STOPY**. Odtud poté:\n",
    "$$\n",
    "Tr \\, R^{-1} A R = Tr \\, RR^{-1} A = Tr A  \n",
    "$$\n",
    "Důsledky třeba pro diagonalizaci matic no.\n",
    "## Transponování a inverze součinu matic\n",
    "Transponujeme-li součin matic, tak to děláme následujícím způsobem:\n",
    "$$\n",
    "(AB)^T = B^T A^T\n",
    "$$\n",
    "Invertujeme-li součin matic, tak podobně\n",
    "$$\n",
    "(AB)^{-1} = B^{-1}A^{-1}\n",
    "$$\n",
    "## Inverze transponované matice\n",
    "Inverze tzransponované matice se provádí jako:\n",
    "$$\n",
    "(A^{T})^{-1} = (A^{-1})^{T}\n",
    "$$\n",
    "## Podmínka existence inverzní matice \n",
    "$$\n",
    "\\forall x \\in \\mathbb{R}^n : (F_B o F_A)(x) = x \\land (F_A o F_b)(x) = x\n",
    "$$\n",
    "Zobrazení $F_A$ představuje původní zobrazení a $F_A$ zobrazení inverzní. Slušně, lidsky napsáno:\n",
    "$$\n",
    "AB = BA = E\n",
    "$$\n",
    "\n",
    "## Jednoznačnost inverzní matice (Tvrzení 4)\n",
    "Nechť $A,B,C \\in \\mathbb{R}^{n \\times n}$ splňují $BA=AC=E$. Pak $B = C$.\n",
    "\n",
    "*Důkaz:*\n",
    "Plyne z asociatiity součinu:\n",
    "$$\n",
    "B = BE = B(AC) = (BA)C = EC = C\n",
    "$$\n",
    "EZ $\\square$"
   ]
  },
  {
   "cell_type": "markdown",
   "id": "6fc879b7-d8db-475d-8a3a-5b4235b4b5ad",
   "metadata": {},
   "source": [
    "# Veličiny popisu vlastností matic\n",
    "\n",
    "## Jádro matice (Def 20)\n",
    "Nechť $A = (a_1 | ... | a_n) \\in \\mathbb{F}^{m \\times n}$, kde $a_i \\in \\mathbb{F}^m$. Pak **jádrem matice** $A$ rozumíme podprostor:\n",
    "$$\n",
    "Ker A = (x \\in \\mathbb{F}^n| Ax = \\vec{o}) \\leq F^{n}\n",
    "$$\n",
    "## Obraz matice (Def 20)\n",
    "Obrazem matice $A = (a_1 | ... | a_n) \\in \\mathbb{F}^{m \\times n}$, ekvivalentně **sloupcovým prostorem** rozumíme:\n",
    "$$\n",
    "Im A = \\langle a_1,...,a_n \\rangle \\leq F^m\n",
    "$$\n",
    "**Řádkovým prostorem** nazveme obraz matice transponované k matici $A$.\n",
    "## Hodnost matice (Def 21)\n",
    "Nechť $A \\in \\mathbb{F}^{m \\times n}$. Číslo $dim \\, Im \\, A = dim \\,Im A^T$ nazýváme **hodnost matice** a značíme jej $rank(A), h(A)$\n",
    "\n",
    "## Nulita matice (39)\n",
    "\n",
    "## Věta o hodnosti a nulitě matice\n",
    "\n",
    "## Prostory a jejich reakce na úpravy \n",
    "## Lemma 2\n",
    "Nechť $V$ je vektorový prostor dimenze $n$ a $W$ jeho podprostor. Pak $W$ je prostorem konečné dimenze a $dim \\, W \\leq n$\n",
    "\n",
    "*Důkaz:*\n",
    "Všechny LNZ podmnožiny $W$ jsou zároveň lineárně nezávislé podmnožiny $V$ a mají tedy dle Důsledku 1 nanejvýš $n$ prvků. Zvolme z nich nějakou $N = \\{v_1,...,v_k \\}$ s maximální počtem prvků. Pokud by $N$ negenerovalo celé $W$ pak by jistě existoval vektor $u \\in W$, pro nějž $u \\notin \\langle N \\rangle$. Každá netriviální lineární kombinace $ru + \\sum_{1}^k s_i v_i = \\vec{o}$ je v rozporu buď s $u \\notin \\langle N \\rangle$, nebo s lineární nezávislostí množiny $N$, tedy $N \\cup \\{u\\}$ je LNZ podmnožina $W$. Má ale $k+1$ prvků, což je ve sporu s předpokládanou maximalitou $N$. Tedy $N$ generuje podprostor $W$, který má konečnou dimenzi $k \\leq n = dim \\, V$  \n",
    "## Průprava o úpravách\n",
    "## Ekvivalentní definice regularity\n",
    "\n"
   ]
  },
  {
   "cell_type": "markdown",
   "id": "0cdbb377-d4f5-4aa3-bf2f-31fdb99bb248",
   "metadata": {},
   "source": [
    "# Frobienova věta (Věta 58)"
   ]
  }
 ],
 "metadata": {
  "kernelspec": {
   "display_name": "Python 3 (ipykernel)",
   "language": "python",
   "name": "python3"
  },
  "language_info": {
   "codemirror_mode": {
    "name": "ipython",
    "version": 3
   },
   "file_extension": ".py",
   "mimetype": "text/x-python",
   "name": "python",
   "nbconvert_exporter": "python",
   "pygments_lexer": "ipython3",
   "version": "3.11.5"
  }
 },
 "nbformat": 4,
 "nbformat_minor": 5
}
