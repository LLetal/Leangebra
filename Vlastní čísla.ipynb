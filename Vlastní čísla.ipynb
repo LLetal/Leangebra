{
 "cells": [
  {
   "cell_type": "markdown",
   "id": "6aa53ceb-be58-4a06-ba80-0f2d2321cd85",
   "metadata": {},
   "source": [
    "# Vlastní čísla"
   ]
  },
  {
   "cell_type": "markdown",
   "id": "d4b0848b-59d1-4aca-98d0-808d857c6bec",
   "metadata": {},
   "source": [
    "# Charakteristický polynom (Def 33)\n",
    "**Charakteristickým polynomem matice** $A \\in \\mathbb{F}^{n x n}$ nazýváme polynom $p_A (\\lambda):= det(A-\\lambda E)$. Charakteristický polynom endorfismu $f$ je $det(f- \\lambda Id)$, čili charakteristický polnyom jeho libovolné matice $[f]_C ^C$. (čili zobrazení z jednoho prostoru do toho samého.). Stupeň char. polynomu je vždy $n$. Absolutním členem nazýváme člen bez $\\lambda$, je jím tedy vždy myšlen **DETERMINANT**.\n",
    "# Vlastní čísla (Def 32)\n",
    "Nechť $V$ je vektorový prostor nad $\\mathbb{F}$. Číslo $\\lambda \\in \\mathbb{F}$ je **vlastním číslem** endomorfismu $f \\in End(V)$, pakliže pro nějaký nenulový vektor $v \\in V$ platí, že $f(v) = \\lambda v$. Každý vektor $v$, který toto splňuje se nazývá **vlastním vektorem** příslušným **vlastnímu** číslu. Současně platí, že onen vektor náleží **vlastnímu podprostoru**.\n",
    "\n",
    "# Vlastní podprostor (Pod Def 32)\n",
    "Vlastní vektory jsou prvky $V_{\\lambda}:= Ker(f-\\lambda Id)$, neboli vlastního podprostoru endomorfismu $f$ příslušného vlastnímu číslu $\\lambda$.\n",
    "# Spektrum matice (Def. 34)\n",
    "Množina všech vlastních čísel matice $A$ se nazývá její **spektrum** a značí se $\\sigma (A)$. Pro $\\lambda_i \\in \\sigma(A)$ je jeho **algebraická násobnost** definována jako násobnost $\\lambda_i$ coby kořenu $p_A (\\lambda)$ a jeho **geometrická násobnost** jako dimenze prostoru $Ker(A-\\lambda_i E)$. Analogicky jsou definovány tytéž pojmy pro endomorfismus.\n",
    "\n",
    "Platí, že algebraická násobnost vlastního čísla endomorfismu/matice je vždy větší nebo rovna jeho násobnosti geo\n",
    "# Koeficienty charakteristického polynomu pro n=2\n",
    "Koeficienty pro matici $A \\in \\mathbb{F}^{2 x 2}$jsou následující:\n",
    "$$\n",
    "\\lambda^2 - Trace(A) + det(A) = 0\n",
    "$$\n",
    "# Báze vl. vektorů a podmínky existence"
   ]
  },
  {
   "cell_type": "markdown",
   "id": "102bb855-3411-4b02-9dd0-af6c1ae8866c",
   "metadata": {
    "tags": []
   },
   "source": [
    "# Diagonalizace matice a endomorfismu (Nemám sešit)\n",
    "To, že je matice endomorfismu diagonalizovatelná znamená, že $\\exists$ matice $R,D (n \\times n)$ takové, že $D = diag, R = reg$ tak, že:\n",
    "$$\n",
    "A = R \\cdot D \\cdot R^{-1} <=> D = R^{-1} A R\n",
    "$$\n",
    "R vždycky představuje matici přechodu z/do kanonické báze z/do báze vlastních vektorů \n",
    "# Vztah diagonalizovatelnosti matice a algebraické násobnosti (Nemám sešit)\n",
    "Matice je diagonizovatelná právě tehdy, když algebraická násobnost je rovná té geometrické. Jinými slovy, když existuje tolik LNZ vl. vektorů, kolik činí jeho algebraická násobnost."
   ]
  },
  {
   "cell_type": "markdown",
   "id": "039005bf-7136-4aca-9e6a-08629c399e6c",
   "metadata": {},
   "source": [
    "# Typy matic minecraft verze\n",
    "# Blokový zápis matice (Tvr 37)\n",
    "Nechť $n = n_1 + n_2$, $m= m_1 +m_2, p = p_1 + p_2, X \\in \\mathbb{F}^{m \\times n}$, $Y \\in \\mathbb{F}^{n \\times p}$ s bloky $A_{ij}\\in \\mathbb{F}^{m_i \\times \\p_j}$. Pak součin $C = AB$ má blokový zápis:\n",
    "$$\n",
    "\\begin{gather}\n",
    " \\begin{bmatrix} C_{11} & C_{12} \\\\ \n",
    " C_{21} & C_{22} \n",
    " \\end{bmatrix}\n",
    " =\n",
    "  \\begin{bmatrix}\n",
    "   X_{22} Y_{11} + X_{12} Y_{21} &\n",
    "   X_{22} Y_{12} + X_{12} Y_{22} \\\\\n",
    "   X_{11} Y_{21} + X_{21} Y_{11} &\n",
    "   X_{11} Y_{22} + X_{21} Y_{12} \n",
    "   \\end{bmatrix}\n",
    "\\end{gather}\n",
    "$$\n",
    "\n",
    "# Horní trojúhelníková matice (Nemám sešit)\n",
    "\n",
    "# Blokovo-diagonální zápis matice (Tvr 38)\n",
    "Nechť $A = diag(A_{11},A_{22},...A_{kk})$. Pak platí:\n",
    "\n",
    "- (1) $\\forall p \\in \\mathbb{N}: A^{p} = diag(A^{p}_{11},...,A^{p}_{kk})$ a jsou-li všechny $A_ii$ regulární, pak i $A^{-p} = diag(A_{11}^{-p},...,A_{kk}^{-p})$\n",
    "- (2) $rank(A) = rank(A_{11})+rank(A_{22}) +...+ rank(A_{kk})$\n",
    "- (3) $Tr(AA) = Tr(A_{11}) + Tr(A_{22}) +...+ Tr(A_{kk})$\n",
    "- (4) $det(A) = det(A_{11}) det(A_{22})det(A_{kk})$\n",
    "- (5) $\\sigma(A) = \\sigma(A_{11}) \\cup \\sigma(A_{22})\\cup ... \\cup \\sigma(A_{kk})$\n",
    "\n",
    "**Poslední dva body platí rovněž pro dolní, potažmo horní, trojúhelníkové matice.**"
   ]
  }
 ],
 "metadata": {
  "kernelspec": {
   "display_name": "Python 3 (ipykernel)",
   "language": "python",
   "name": "python3"
  },
  "language_info": {
   "codemirror_mode": {
    "name": "ipython",
    "version": 3
   },
   "file_extension": ".py",
   "mimetype": "text/x-python",
   "name": "python",
   "nbconvert_exporter": "python",
   "pygments_lexer": "ipython3",
   "version": "3.11.4"
  }
 },
 "nbformat": 4,
 "nbformat_minor": 5
}
