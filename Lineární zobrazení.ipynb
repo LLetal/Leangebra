{
 "cells": [
  {
   "cell_type": "markdown",
   "id": "f978496a-aec8-41e2-b2f6-ad84ab756e6e",
   "metadata": {},
   "source": [
    "# Lineární zobrazení\n"
   ]
  },
  {
   "cell_type": "markdown",
   "id": "a5559805-687f-44c0-8ff3-597669143803",
   "metadata": {},
   "source": [
    "# Homomorfismus (Def 22, důsledek 4) (40)\n",
    "Nechť $V, W$ jsou dva vektorové prostory nad $\\mathbb{F}$ a $f: V \\to W$ je zobrazení splňující $\\forall r,s \\in \\mathbb{F}, \\forall u,v \\in V$:\n",
    "$$\n",
    "f(ru + sv) = rf(u) + sf(v)\n",
    "$$\n",
    "Takové $f$ nazýváme **lineárním zobrazení**. Jinými, slušnými, slovy zobrazení, které zachovíví LK. \n",
    "## Důsledek 4\n",
    "Nechť $V,W$ jsou dva vektorové prostory nad a $f: V \\to W$ je **lineární zobrazení**. Pak:\n",
    "- (1) $\\forall u,v \\in V: f(u+v) = f(u)+f(v)$\n",
    "- (2) $\\forall u \\in V, \\forall r \\in \\mathbb{F}: f(ru)=rf(u)$\n",
    "- (3) $f(o_V) = o_W$\n",
    "- (4) $\\forall v \\in V: f(-v)=-f(v)$\n",
    "\n",
    "*Důkaz:*\n",
    "Volíme v definici linárního zobrazení $r=s=1$; $s=0$;$r=s=0$;$s=-1$. Čili typický důkaz z definice.\n",
    "\n",
    "## Druhy homomorfismů\n",
    "**Epimorfismus**\n",
    "Obraz zobrazení je celý prostor, do kterého zobrazuje.\n",
    "\n",
    "**Monomorfismus**\n",
    "Jádro příslušného zobrazení je nulový vektor.\n",
    "**Izomorfismus**\n",
    "Současně je **monomorfismus** a **epimorfismus**\n",
    "**Endomorfismus**\n",
    "Takové zobrazení, pro které platí, že zobrazuje ze stejného prostoru do stejného prostoru. Pomocí reprezentace báze zapsáno:\n",
    "$$\n",
    "[F]^W _W\n",
    "$$\n",
    "**Automorfismus**\n",
    "Je současně **izomorfismus** a **endomorfismus**\n",
    "## Operace s homomorfismy\n",
    "Protože lineární zobrazení je reprezentované pomocí matice, tak operace jsou stejné jako operace s maticemi.\n",
    "\n",
    "## Reprezantace homomorfismů vzhledem k bázím a transformační formule\n",
    "Pakliže $B, B'$ jsou dvě báze $V$, označme:\n",
    "- $R= [Id]^B _{B'}$ matici přechodu z $B$ k $B'$\n",
    "- A = $[f]^B _B$ matici endomorfismu vzhledem k bází $B$\n",
    "- A' = $[f]^{B'} _{B'}$ matici endomorfismu vzhledem k bází $B'$\n",
    "Pak dostáváme **transformační formuli**:\n",
    "\n",
    "$$\n",
    "A' = [f]^{B'} _{B'} = [Id]^{B'} _{B} [f]^B _B [Id]^B _{B'} \n",
    "$$\n",
    "Dvě matice $A', A$, pro něž existuje regulární matice $R$ taková, že $A' = R^{-1}A R$, se nazývají **PODOBNÉ**.\n",
    "\n",
    "### Mimo to ještě platí, že (Tvrzení 27):\n",
    "Nechť $U, V, W$ jsou vektorové prostory konečné dimenze nad $\\mathbb{F}$, $D$ je báze $U$, $B$ je báze $V$, $C$ je báze $W$ $f: V \\to W$, $h: U \\to V$ lineární zobrazení. Pak:\n",
    "$$\n",
    "[f \\, o \\, h]^{C}_D = [f]_B ^C [h]^B _D\n",
    "$$\n",
    "\n",
    "*Důkaz:*\n",
    "\n",
    "Nechť $D=(u_1,..., u_p), u \\in U$. Pak\n",
    "$$\n",
    "[(f \\, o h)(u)]^C = [f(h(u))]^C = [f]^C _B [h(u)]^B = [f]_B ^C [h]_D ^B [u]^D\n",
    "$$\n",
    "### Doplnit další zajímavé věci trikové"
   ]
  },
  {
   "cell_type": "markdown",
   "id": "e7d94fbe-553e-4f28-a8da-f59cf18f1195",
   "metadata": {},
   "source": [
    "# Matice endomorfismus (46) ???\n"
   ]
  }
 ],
 "metadata": {
  "kernelspec": {
   "display_name": "Python 3 (ipykernel)",
   "language": "python",
   "name": "python3"
  },
  "language_info": {
   "codemirror_mode": {
    "name": "ipython",
    "version": 3
   },
   "file_extension": ".py",
   "mimetype": "text/x-python",
   "name": "python",
   "nbconvert_exporter": "python",
   "pygments_lexer": "ipython3",
   "version": "3.11.5"
  }
 },
 "nbformat": 4,
 "nbformat_minor": 5
}
